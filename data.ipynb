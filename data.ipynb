{
 "cells": [
  {
   "cell_type": "markdown",
   "metadata": {},
   "source": [
    "# Loading Dataset"
   ]
  },
  {
   "cell_type": "code",
   "execution_count": 30,
   "metadata": {},
   "outputs": [
    {
     "name": "stderr",
     "output_type": "stream",
     "text": [
      "C:\\Users\\Neo\\AppData\\Local\\Temp\\ipykernel_6332\\148267436.py:9: FutureWarning: The 'delim_whitespace' keyword in pd.read_csv is deprecated and will be removed in a future version. Use ``sep='\\s+'`` instead\n",
      "  data = pd.read_csv(r\"C:/Users/Neo/Desktop/UI project/Gesture UI/dataset.txt\", delim_whitespace=True, header=None)\n"
     ]
    },
    {
     "name": "stdout",
     "output_type": "stream",
     "text": [
      "   tBodyAcc-mean()-X  tBodyAcc-mean()-Y  tBodyAcc-mean()-Z  tBodyAcc-std()-X  \\\n",
      "0           0.288585          -0.020294          -0.132905         -0.995279   \n",
      "1           0.278419          -0.016411          -0.123520         -0.998245   \n",
      "2           0.279653          -0.019467          -0.113462         -0.995380   \n",
      "3           0.279174          -0.026201          -0.123283         -0.996091   \n",
      "4           0.276629          -0.016570          -0.115362         -0.998139   \n",
      "\n",
      "   tBodyAcc-std()-Y  tBodyAcc-std()-Z  tBodyAcc-mad()-X  tBodyAcc-mad()-Y  \\\n",
      "0         -0.983111         -0.913526         -0.995112         -0.983185   \n",
      "1         -0.975300         -0.960322         -0.998807         -0.974914   \n",
      "2         -0.967187         -0.978944         -0.996520         -0.963668   \n",
      "3         -0.983403         -0.990675         -0.997099         -0.982750   \n",
      "4         -0.980817         -0.990482         -0.998321         -0.979672   \n",
      "\n",
      "   tBodyAcc-mad()-Z  tBodyAcc-max()-X  ...  fBodyBodyGyroJerkMag-meanFreq()  \\\n",
      "0         -0.923527         -0.934724  ...                        -0.074323   \n",
      "1         -0.957686         -0.943068  ...                         0.158075   \n",
      "2         -0.977469         -0.938692  ...                         0.414503   \n",
      "3         -0.989302         -0.938692  ...                         0.404573   \n",
      "4         -0.990441         -0.942469  ...                         0.087753   \n",
      "\n",
      "   fBodyBodyGyroJerkMag-skewness()  fBodyBodyGyroJerkMag-kurtosis()  \\\n",
      "0                        -0.298676                        -0.710304   \n",
      "1                        -0.595051                        -0.861499   \n",
      "2                        -0.390748                        -0.760104   \n",
      "3                        -0.117290                        -0.482845   \n",
      "4                        -0.351471                        -0.699205   \n",
      "\n",
      "   angle(tBodyAccMean,gravity)  angle(tBodyAccJerkMean),gravityMean)  \\\n",
      "0                    -0.112754                              0.030400   \n",
      "1                     0.053477                             -0.007435   \n",
      "2                    -0.118559                              0.177899   \n",
      "3                    -0.036788                             -0.012892   \n",
      "4                     0.123320                              0.122542   \n",
      "\n",
      "   angle(tBodyGyroMean,gravityMean)  angle(tBodyGyroJerkMean,gravityMean)  \\\n",
      "0                         -0.464761                             -0.018446   \n",
      "1                         -0.732626                              0.703511   \n",
      "2                          0.100699                              0.808529   \n",
      "3                          0.640011                             -0.485366   \n",
      "4                          0.693578                             -0.615971   \n",
      "\n",
      "   angle(X,gravityMean)  angle(Y,gravityMean)  angle(Z,gravityMean)  \n",
      "0             -0.841247              0.179941             -0.058627  \n",
      "1             -0.844788              0.180289             -0.054317  \n",
      "2             -0.848933              0.180637             -0.049118  \n",
      "3             -0.848649              0.181935             -0.047663  \n",
      "4             -0.847865              0.185151             -0.043892  \n",
      "\n",
      "[5 rows x 561 columns]\n",
      "   0\n",
      "0  5\n",
      "1  5\n",
      "2  5\n",
      "3  5\n",
      "4  5\n"
     ]
    },
    {
     "name": "stderr",
     "output_type": "stream",
     "text": [
      "C:\\Users\\Neo\\AppData\\Local\\Temp\\ipykernel_6332\\148267436.py:13: FutureWarning: The 'delim_whitespace' keyword in pd.read_csv is deprecated and will be removed in a future version. Use ``sep='\\s+'`` instead\n",
      "  features = pd.read_csv(r\"C:/Users/Neo/Desktop/UI project/Gesture UI/features.txt\", delim_whitespace=True, header=None, usecols=[1])\n"
     ]
    }
   ],
   "source": [
    "import pandas as pd\n",
    "import numpy as np\n",
    "\n",
    "# Rrandom seed\n",
    "SEED = 412122\n",
    "np.random.seed(SEED)\n",
    "\n",
    "# Loading dataset\n",
    "data = pd.read_csv(r\"C:/Users/Neo/Desktop/UI project/Gesture UI/dataset.txt\", delim_whitespace=True, header=None)\n",
    "targets = pd.read_csv(r\"C:/Users/Neo/Desktop/UI project/Gesture UI/targets.txt\", header=None)\n",
    "\n",
    "# Loading feature names\n",
    "features = pd.read_csv(r\"C:/Users/Neo/Desktop/UI project/Gesture UI/features.txt\", delim_whitespace=True, header=None, usecols=[1])\n",
    "features = features.squeeze().tolist()\n",
    "\n",
    "# Assigning feature names to the dataset\n",
    "data.columns = features\n",
    "\n",
    "# Verifying the data\n",
    "print(data.head())\n",
    "print(targets.head())"
   ]
  }
 ],
 "metadata": {
  "kernelspec": {
   "display_name": "Python 3",
   "language": "python",
   "name": "python3"
  },
  "language_info": {
   "codemirror_mode": {
    "name": "ipython",
    "version": 3
   },
   "file_extension": ".py",
   "mimetype": "text/x-python",
   "name": "python",
   "nbconvert_exporter": "python",
   "pygments_lexer": "ipython3",
   "version": "3.12.3"
  }
 },
 "nbformat": 4,
 "nbformat_minor": 2
}
